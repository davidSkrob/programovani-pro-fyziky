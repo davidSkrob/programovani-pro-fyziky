{
 "cells": [
  {
   "cell_type": "code",
   "execution_count": 45,
   "metadata": {},
   "outputs": [],
   "source": [
    "import numpy as np\n",
    "\n",
    "def hilbert(n):\n",
    "  a = np.zeros((n,n))\n",
    "  for i in range(n):\n",
    "    for j in range(n):\n",
    "      a[i, j] = 1/(i+j+1)\n",
    "  return a"
   ]
  },
  {
   "cell_type": "code",
   "execution_count": 54,
   "metadata": {},
   "outputs": [],
   "source": [
    "import numpy as np\n",
    "def GJelim(matice):\n",
    "    \"Vrátí °e2ení soustavy rovnic A.x=b nalezené GJ eliminací. Parametry musí být, →typu ndarray.\"\n",
    "    dim = len(matice[0])\n",
    "    \n",
    "    A = np.zeros([dim,2*dim])\n",
    "    # následující p°i°azení provádí zárove¬ kontrolu velikosti vstupních polí\n",
    "    A[0:dim, 0:dim] = matice\n",
    "    Id = np.zeros([dim, dim])\n",
    "    for i in range(dim):\n",
    "        Id[i, i] = 1\n",
    "    #print(Id)\n",
    "    A[0:dim, dim:2*dim] = Id\n",
    "    \n",
    "    for r in range(dim): # pro vsechny radky <r>\n",
    "        # 1. £áste£ná pivotace (°e2í nulovost diagonálního prvku a zvy2uje p°esnost)\n",
    "        best_r = r\n",
    "        for r1 in range(r+1,dim):\n",
    "            if abs(A[r1,r]) > abs(A[best_r,r]):\n",
    "                best_r = r1\n",
    "        if best_r != r:\n",
    "        # A[[best_r,r],r:] = A[[r,best_r],r:] #alternativní varianta prohození\n",
    "            A[best_r,r:], A[r,r:] = A[r,r:], A[best_r,r:].copy()\n",
    "        # 2. normalizace radku\n",
    "        # 2.1 najdeme prevracenou hodnotu prvku na diagonale\n",
    "        faktor = 1 / A[r,r]\n",
    "        # 2.2 \"vsechny\" sloupce radku <r> vynasobime timto faktorem\n",
    "        A[r,r:] *= faktor\n",
    "        # 3. eliminace\n",
    "        for r1 in range(dim): # pro vsechny radky <r1>\n",
    "            if r != r1:\n",
    "                faktor = A[r1,r];\n",
    "                A[r1,r:] -= faktor * A[r,r:]\n",
    "            #A[r1] = scipy.linalg.blas.daxpy(A[r], A[r1], dim+1,-A[r1,r])\n",
    "        \n",
    "        #print(A)\n",
    "    return [row[dim:2*dim] for row in A]"
   ]
  },
  {
   "cell_type": "code",
   "execution_count": 65,
   "metadata": {},
   "outputs": [
    {
     "name": "stdout",
     "output_type": "stream",
     "text": [
      "1\t 1.0\t 1.0\n",
      "2\t 4.000000000000001\t 12.000000000000004\n",
      "3\t 9.000000000000004\t 192.00000000000114\n",
      "4\t 15.999999999999744\t 6479.9999999996235\n",
      "5\t 25.000000000025807\t 179200.0000000225\n",
      "6\t 36.00000000124737\t 4410000.000484111\n",
      "7\t 49.0000000285836\t 133402500.4683935\n",
      "8\t 63.99999969507917\t 4249941687.772321\n",
      "9\t 80.99994884128682\t 122367043621.45667\n",
      "10\t 99.99815834825858\t 3480254596501.053\n",
      "11\t 120.9751952663064\t 117298023945806.05\n",
      "12\t 143.44636964797974\t 3443999970500717.0\n"
     ]
    }
   ],
   "source": [
    "for i in range(1, 13):\n",
    "    matrix = np.array(GJelim(hilbert(i)))\n",
    "    print(f\"{i}\\t {sum(sum(matrix))}\\t {max(matrix.flatten())}\")"
   ]
  }
 ],
 "metadata": {
  "kernelspec": {
   "display_name": "base",
   "language": "python",
   "name": "python3"
  },
  "language_info": {
   "codemirror_mode": {
    "name": "ipython",
    "version": 3
   },
   "file_extension": ".py",
   "mimetype": "text/x-python",
   "name": "python",
   "nbconvert_exporter": "python",
   "pygments_lexer": "ipython3",
   "version": "3.11.5"
  }
 },
 "nbformat": 4,
 "nbformat_minor": 2
}
